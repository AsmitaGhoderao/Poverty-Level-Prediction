{
 "cells": [
  {
   "cell_type": "code",
   "execution_count": 1,
   "metadata": {},
   "outputs": [],
   "source": [
    "import numpy as np\n",
    "import pandas as pd\n",
    "import seaborn as sns\n",
    "import matplotlib.pyplot as plt\n",
    "import os\n",
    "os.chdir('E:/Data Science/Competitions/Projects/Poverty Level Prediction')"
   ]
  },
  {
   "cell_type": "code",
   "execution_count": 2,
   "metadata": {},
   "outputs": [
    {
     "data": {
      "text/html": [
       "<div>\n",
       "<style scoped>\n",
       "    .dataframe tbody tr th:only-of-type {\n",
       "        vertical-align: middle;\n",
       "    }\n",
       "\n",
       "    .dataframe tbody tr th {\n",
       "        vertical-align: top;\n",
       "    }\n",
       "\n",
       "    .dataframe thead th {\n",
       "        text-align: right;\n",
       "    }\n",
       "</style>\n",
       "<table border=\"1\" class=\"dataframe\">\n",
       "  <thead>\n",
       "    <tr style=\"text-align: right;\">\n",
       "      <th></th>\n",
       "      <th>monthly_rent</th>\n",
       "      <th>rooms</th>\n",
       "      <th>has_bathroom</th>\n",
       "      <th>has_fridge</th>\n",
       "      <th>has_tablet</th>\n",
       "      <th>n_males</th>\n",
       "      <th>n_females</th>\n",
       "      <th>n_under_12</th>\n",
       "      <th>n_above_12</th>\n",
       "      <th>n_persons</th>\n",
       "      <th>...</th>\n",
       "      <th>is_overcrowded</th>\n",
       "      <th>ownership_own</th>\n",
       "      <th>ownership_rented</th>\n",
       "      <th>region_central</th>\n",
       "      <th>region_chorotega</th>\n",
       "      <th>region_huetar_alt</th>\n",
       "      <th>region_huetar_nor</th>\n",
       "      <th>region_pac_central</th>\n",
       "      <th>zone_urban</th>\n",
       "      <th>gender_male</th>\n",
       "    </tr>\n",
       "  </thead>\n",
       "  <tbody>\n",
       "    <tr>\n",
       "      <td>0</td>\n",
       "      <td>190000.000000</td>\n",
       "      <td>3</td>\n",
       "      <td>1</td>\n",
       "      <td>1</td>\n",
       "      <td>0</td>\n",
       "      <td>1</td>\n",
       "      <td>0</td>\n",
       "      <td>0</td>\n",
       "      <td>1</td>\n",
       "      <td>1</td>\n",
       "      <td>...</td>\n",
       "      <td>0</td>\n",
       "      <td>0</td>\n",
       "      <td>1</td>\n",
       "      <td>1</td>\n",
       "      <td>0</td>\n",
       "      <td>0</td>\n",
       "      <td>0</td>\n",
       "      <td>0</td>\n",
       "      <td>1</td>\n",
       "      <td>1</td>\n",
       "    </tr>\n",
       "    <tr>\n",
       "      <td>1</td>\n",
       "      <td>135000.000000</td>\n",
       "      <td>4</td>\n",
       "      <td>1</td>\n",
       "      <td>1</td>\n",
       "      <td>1</td>\n",
       "      <td>1</td>\n",
       "      <td>0</td>\n",
       "      <td>0</td>\n",
       "      <td>1</td>\n",
       "      <td>1</td>\n",
       "      <td>...</td>\n",
       "      <td>0</td>\n",
       "      <td>0</td>\n",
       "      <td>1</td>\n",
       "      <td>1</td>\n",
       "      <td>0</td>\n",
       "      <td>0</td>\n",
       "      <td>0</td>\n",
       "      <td>0</td>\n",
       "      <td>1</td>\n",
       "      <td>1</td>\n",
       "    </tr>\n",
       "    <tr>\n",
       "      <td>2</td>\n",
       "      <td>192412.491466</td>\n",
       "      <td>8</td>\n",
       "      <td>1</td>\n",
       "      <td>1</td>\n",
       "      <td>0</td>\n",
       "      <td>0</td>\n",
       "      <td>1</td>\n",
       "      <td>0</td>\n",
       "      <td>1</td>\n",
       "      <td>1</td>\n",
       "      <td>...</td>\n",
       "      <td>0</td>\n",
       "      <td>1</td>\n",
       "      <td>0</td>\n",
       "      <td>1</td>\n",
       "      <td>0</td>\n",
       "      <td>0</td>\n",
       "      <td>0</td>\n",
       "      <td>0</td>\n",
       "      <td>1</td>\n",
       "      <td>0</td>\n",
       "    </tr>\n",
       "    <tr>\n",
       "      <td>3</td>\n",
       "      <td>180000.000000</td>\n",
       "      <td>5</td>\n",
       "      <td>1</td>\n",
       "      <td>1</td>\n",
       "      <td>1</td>\n",
       "      <td>2</td>\n",
       "      <td>2</td>\n",
       "      <td>1</td>\n",
       "      <td>3</td>\n",
       "      <td>4</td>\n",
       "      <td>...</td>\n",
       "      <td>0</td>\n",
       "      <td>0</td>\n",
       "      <td>1</td>\n",
       "      <td>1</td>\n",
       "      <td>0</td>\n",
       "      <td>0</td>\n",
       "      <td>0</td>\n",
       "      <td>0</td>\n",
       "      <td>1</td>\n",
       "      <td>1</td>\n",
       "    </tr>\n",
       "    <tr>\n",
       "      <td>4</td>\n",
       "      <td>180000.000000</td>\n",
       "      <td>5</td>\n",
       "      <td>1</td>\n",
       "      <td>1</td>\n",
       "      <td>1</td>\n",
       "      <td>2</td>\n",
       "      <td>2</td>\n",
       "      <td>1</td>\n",
       "      <td>3</td>\n",
       "      <td>4</td>\n",
       "      <td>...</td>\n",
       "      <td>0</td>\n",
       "      <td>0</td>\n",
       "      <td>1</td>\n",
       "      <td>1</td>\n",
       "      <td>0</td>\n",
       "      <td>0</td>\n",
       "      <td>0</td>\n",
       "      <td>0</td>\n",
       "      <td>1</td>\n",
       "      <td>0</td>\n",
       "    </tr>\n",
       "  </tbody>\n",
       "</table>\n",
       "<p>5 rows × 54 columns</p>\n",
       "</div>"
      ],
      "text/plain": [
       "    monthly_rent  rooms  has_bathroom  has_fridge  has_tablet  n_males  \\\n",
       "0  190000.000000      3             1           1           0        1   \n",
       "1  135000.000000      4             1           1           1        1   \n",
       "2  192412.491466      8             1           1           0        0   \n",
       "3  180000.000000      5             1           1           1        2   \n",
       "4  180000.000000      5             1           1           1        2   \n",
       "\n",
       "   n_females  n_under_12  n_above_12  n_persons  ...  is_overcrowded  \\\n",
       "0          0           0           1          1  ...               0   \n",
       "1          0           0           1          1  ...               0   \n",
       "2          1           0           1          1  ...               0   \n",
       "3          2           1           3          4  ...               0   \n",
       "4          2           1           3          4  ...               0   \n",
       "\n",
       "   ownership_own  ownership_rented  region_central  region_chorotega  \\\n",
       "0              0                 1               1                 0   \n",
       "1              0                 1               1                 0   \n",
       "2              1                 0               1                 0   \n",
       "3              0                 1               1                 0   \n",
       "4              0                 1               1                 0   \n",
       "\n",
       "   region_huetar_alt  region_huetar_nor  region_pac_central  zone_urban  \\\n",
       "0                  0                  0                   0           1   \n",
       "1                  0                  0                   0           1   \n",
       "2                  0                  0                   0           1   \n",
       "3                  0                  0                   0           1   \n",
       "4                  0                  0                   0           1   \n",
       "\n",
       "   gender_male  \n",
       "0            1  \n",
       "1            1  \n",
       "2            0  \n",
       "3            1  \n",
       "4            0  \n",
       "\n",
       "[5 rows x 54 columns]"
      ]
     },
     "execution_count": 2,
     "metadata": {},
     "output_type": "execute_result"
    }
   ],
   "source": [
    "df = pd.read_csv('finaldata.csv')\n",
    "df.head()\n"
   ]
  },
  {
   "cell_type": "code",
   "execution_count": 3,
   "metadata": {},
   "outputs": [
    {
     "data": {
      "text/plain": [
       "(9557, 54)"
      ]
     },
     "execution_count": 3,
     "metadata": {},
     "output_type": "execute_result"
    }
   ],
   "source": [
    "df.shape"
   ]
  },
  {
   "cell_type": "markdown",
   "metadata": {},
   "source": [
    "### class imbalance check"
   ]
  },
  {
   "cell_type": "code",
   "execution_count": 4,
   "metadata": {},
   "outputs": [
    {
     "data": {
      "text/plain": [
       "4    0.627394\n",
       "2    0.167103\n",
       "3    0.126504\n",
       "1    0.079000\n",
       "Name: Target, dtype: float64"
      ]
     },
     "execution_count": 4,
     "metadata": {},
     "output_type": "execute_result"
    }
   ],
   "source": [
    "df['Target'].value_counts(normalize = True)"
   ]
  },
  {
   "cell_type": "code",
   "execution_count": 5,
   "metadata": {},
   "outputs": [
    {
     "data": {
      "text/plain": [
       "4    5996\n",
       "2    1597\n",
       "3    1209\n",
       "1     755\n",
       "Name: Target, dtype: int64"
      ]
     },
     "execution_count": 5,
     "metadata": {},
     "output_type": "execute_result"
    }
   ],
   "source": [
    "df['Target'].value_counts()"
   ]
  },
  {
   "cell_type": "markdown",
   "metadata": {},
   "source": [
    "##### There is a class imbalance. The extremely poor households are the minority here. Also, we have to identify such households. So, to balance the data using SMOTE"
   ]
  },
  {
   "cell_type": "markdown",
   "metadata": {},
   "source": [
    "### Splitting the data"
   ]
  },
  {
   "cell_type": "code",
   "execution_count": 6,
   "metadata": {},
   "outputs": [],
   "source": [
    "from sklearn.model_selection import train_test_split\n",
    "\n",
    "X = df.drop('Target', axis = 1)\n",
    "Y = df['Target']\n",
    "\n",
    "X_train, X_test, y_train, y_test = train_test_split(X, Y, test_size = 0.3, random_state = 21)"
   ]
  },
  {
   "cell_type": "code",
   "execution_count": 7,
   "metadata": {},
   "outputs": [],
   "source": [
    "from sklearn.tree import DecisionTreeClassifier\n",
    "from sklearn.ensemble import RandomForestClassifier, BaggingClassifier, AdaBoostClassifier\n",
    "from sklearn.metrics import classification_report\n",
    "\n",
    "from sklearn.model_selection import RandomizedSearchCV, GridSearchCV\n"
   ]
  },
  {
   "cell_type": "code",
   "execution_count": 8,
   "metadata": {},
   "outputs": [
    {
     "name": "stdout",
     "output_type": "stream",
     "text": [
      "              precision    recall  f1-score   support\n",
      "\n",
      "           1       0.77      0.83      0.80       223\n",
      "           2       0.78      0.81      0.80       468\n",
      "           3       0.84      0.83      0.83       345\n",
      "           4       0.96      0.94      0.95      1832\n",
      "\n",
      "    accuracy                           0.90      2868\n",
      "   macro avg       0.84      0.85      0.84      2868\n",
      "weighted avg       0.90      0.90      0.90      2868\n",
      "\n"
     ]
    }
   ],
   "source": [
    "DT  = DecisionTreeClassifier(random_state = 21)\n",
    "\n",
    "DT.fit(X_train, y_train)\n",
    "\n",
    "yt_pred = DT.predict(X_train)\n",
    "y_pred = DT.predict(X_test)\n",
    "\n",
    "print(classification_report(y_test,y_pred))"
   ]
  },
  {
   "cell_type": "code",
   "execution_count": 9,
   "metadata": {},
   "outputs": [
    {
     "name": "stdout",
     "output_type": "stream",
     "text": [
      "              precision    recall  f1-score   support\n",
      "\n",
      "           1       1.00      1.00      1.00       532\n",
      "           2       1.00      1.00      1.00      1129\n",
      "           3       1.00      1.00      1.00       864\n",
      "           4       1.00      1.00      1.00      4164\n",
      "\n",
      "    accuracy                           1.00      6689\n",
      "   macro avg       1.00      1.00      1.00      6689\n",
      "weighted avg       1.00      1.00      1.00      6689\n",
      "\n"
     ]
    }
   ],
   "source": [
    "print(classification_report(y_train,yt_pred))"
   ]
  },
  {
   "cell_type": "markdown",
   "metadata": {},
   "source": [
    "The model overfits. Also, the precision, recall and f1 score for class 4 is above 0.90. thus the accuracy of 90%.\n",
    "\n",
    "But here, we are more concerned with the accurate prediciton of class 1 which are the households that are most vulnerable. The precision, recall and f1 score for class 1 look descent, we would try to increase these scores\n",
    "\n",
    "As we know that there is imbalance among the classes, there is a need to apply SMOTE to balance these classes and build models over it."
   ]
  },
  {
   "cell_type": "markdown",
   "metadata": {},
   "source": [
    "## Applying SMOTE "
   ]
  },
  {
   "cell_type": "code",
   "execution_count": 10,
   "metadata": {},
   "outputs": [
    {
     "name": "stdout",
     "output_type": "stream",
     "text": [
      "4    5996\n",
      "3    5996\n",
      "2    5996\n",
      "1    5996\n",
      "Name: Target, dtype: int64\n"
     ]
    }
   ],
   "source": [
    "from imblearn.over_sampling import SMOTE\n",
    "\n",
    "sm = SMOTE()\n",
    "\n",
    "X_smote, y_smote = sm.fit_resample(X, Y)\n",
    "\n",
    "print(y_smote.value_counts())"
   ]
  },
  {
   "cell_type": "markdown",
   "metadata": {},
   "source": [
    "## Models after applying SMOTE"
   ]
  },
  {
   "cell_type": "code",
   "execution_count": 11,
   "metadata": {},
   "outputs": [
    {
     "name": "stdout",
     "output_type": "stream",
     "text": [
      "              precision    recall  f1-score   support\n",
      "\n",
      "           1       0.88      0.91      0.89      1831\n",
      "           2       0.83      0.81      0.82      1777\n",
      "           3       0.86      0.86      0.86      1773\n",
      "           4       0.91      0.89      0.90      1815\n",
      "\n",
      "    accuracy                           0.87      7196\n",
      "   macro avg       0.87      0.87      0.87      7196\n",
      "weighted avg       0.87      0.87      0.87      7196\n",
      "\n"
     ]
    }
   ],
   "source": [
    "## Model 2:\n",
    "\n",
    "DT  = DecisionTreeClassifier(random_state = 21)\n",
    "\n",
    "X_train, X_test, y_train, y_test = train_test_split(X_smote, y_smote, test_size = 0.3, random_state = 21)\n",
    "\n",
    "DT.fit(X_train, y_train)\n",
    "\n",
    "yt_pred = DT.predict(X_train)\n",
    "y_pred = DT.predict(X_test)\n",
    "\n",
    "print(classification_report(y_test,y_pred))"
   ]
  },
  {
   "cell_type": "code",
   "execution_count": 12,
   "metadata": {},
   "outputs": [
    {
     "name": "stdout",
     "output_type": "stream",
     "text": [
      "              precision    recall  f1-score   support\n",
      "\n",
      "           1       1.00      1.00      1.00      4165\n",
      "           2       1.00      1.00      1.00      4219\n",
      "           3       1.00      1.00      1.00      4223\n",
      "           4       1.00      1.00      1.00      4181\n",
      "\n",
      "    accuracy                           1.00     16788\n",
      "   macro avg       1.00      1.00      1.00     16788\n",
      "weighted avg       1.00      1.00      1.00     16788\n",
      "\n"
     ]
    }
   ],
   "source": [
    "print(classification_report(y_train,yt_pred))"
   ]
  },
  {
   "cell_type": "markdown",
   "metadata": {},
   "source": [
    "After applying SMOTE still there the precision, recall and f1 score values improved for class 1 by 10% which is a good indicator.\n",
    "\n",
    "But still there exists high variance in the model which needs to be addressed by using some Bagging techniques."
   ]
  },
  {
   "cell_type": "code",
   "execution_count": 13,
   "metadata": {},
   "outputs": [
    {
     "name": "stdout",
     "output_type": "stream",
     "text": [
      "              precision    recall  f1-score   support\n",
      "\n",
      "           1       0.91      0.94      0.93      1831\n",
      "           2       0.90      0.89      0.89      1777\n",
      "           3       0.92      0.90      0.91      1773\n",
      "           4       0.94      0.94      0.94      1815\n",
      "\n",
      "    accuracy                           0.92      7196\n",
      "   macro avg       0.92      0.92      0.92      7196\n",
      "weighted avg       0.92      0.92      0.92      7196\n",
      "\n"
     ]
    }
   ],
   "source": [
    "## Model 3: Bagged DT \n",
    "\n",
    "BG_DT = BaggingClassifier(base_estimator = DT, random_state = 21)\n",
    "\n",
    "BG_DT.fit(X_train, y_train)\n",
    "\n",
    "yt_pred = BG_DT.predict(X_train)\n",
    "y_pred = BG_DT.predict(X_test)\n",
    "\n",
    "print(classification_report(y_test,y_pred))"
   ]
  },
  {
   "cell_type": "code",
   "execution_count": 14,
   "metadata": {},
   "outputs": [
    {
     "name": "stdout",
     "output_type": "stream",
     "text": [
      "              precision    recall  f1-score   support\n",
      "\n",
      "           1       1.00      1.00      1.00      4165\n",
      "           2       1.00      1.00      1.00      4219\n",
      "           3       1.00      1.00      1.00      4223\n",
      "           4       1.00      1.00      1.00      4181\n",
      "\n",
      "    accuracy                           1.00     16788\n",
      "   macro avg       1.00      1.00      1.00     16788\n",
      "weighted avg       1.00      1.00      1.00     16788\n",
      "\n"
     ]
    }
   ],
   "source": [
    "print(classification_report(y_train,yt_pred))"
   ]
  },
  {
   "cell_type": "markdown",
   "metadata": {},
   "source": [
    "Variance did not decrease much, need to find optimal estimators for BG_DT"
   ]
  },
  {
   "cell_type": "code",
   "execution_count": 15,
   "metadata": {},
   "outputs": [
    {
     "name": "stdout",
     "output_type": "stream",
     "text": [
      "              precision    recall  f1-score   support\n",
      "\n",
      "           1       0.95      0.97      0.96      1831\n",
      "           2       0.95      0.92      0.94      1777\n",
      "           3       0.96      0.94      0.95      1773\n",
      "           4       0.94      0.96      0.95      1815\n",
      "\n",
      "    accuracy                           0.95      7196\n",
      "   macro avg       0.95      0.95      0.95      7196\n",
      "weighted avg       0.95      0.95      0.95      7196\n",
      "\n"
     ]
    }
   ],
   "source": [
    "## Model 4:\n",
    "RF  = RandomForestClassifier(random_state = 21)\n",
    "\n",
    "RF.fit(X_train, y_train)\n",
    "\n",
    "yt_pred = RF.predict(X_train)\n",
    "y_pred = RF.predict(X_test)\n",
    "\n",
    "print(classification_report(y_test,y_pred))"
   ]
  },
  {
   "cell_type": "code",
   "execution_count": 16,
   "metadata": {},
   "outputs": [
    {
     "name": "stdout",
     "output_type": "stream",
     "text": [
      "              precision    recall  f1-score   support\n",
      "\n",
      "           1       1.00      1.00      1.00      4165\n",
      "           2       1.00      1.00      1.00      4219\n",
      "           3       1.00      1.00      1.00      4223\n",
      "           4       1.00      1.00      1.00      4181\n",
      "\n",
      "    accuracy                           1.00     16788\n",
      "   macro avg       1.00      1.00      1.00     16788\n",
      "weighted avg       1.00      1.00      1.00     16788\n",
      "\n"
     ]
    }
   ],
   "source": [
    "print(classification_report(y_train,yt_pred))"
   ]
  },
  {
   "cell_type": "code",
   "execution_count": null,
   "metadata": {},
   "outputs": [],
   "source": []
  },
  {
   "cell_type": "code",
   "execution_count": 17,
   "metadata": {},
   "outputs": [],
   "source": [
    "import matplotlib.pyplot as plt\n",
    "import seaborn as sns"
   ]
  },
  {
   "cell_type": "markdown",
   "metadata": {},
   "source": [
    "### Feature Selection"
   ]
  },
  {
   "cell_type": "code",
   "execution_count": 18,
   "metadata": {},
   "outputs": [
    {
     "data": {
      "image/png": "[encoded data removed]",
      "text/plain": [
       "<Figure size 1080x720 with 1 Axes>"
      ]
     },
     "metadata": {
      "needs_background": "light"
     },
     "output_type": "display_data"
    }
   ],
   "source": [
    "## 1. Feature Importance\n",
    "\n",
    "imp_features = pd.DataFrame({'features': X_train.columns, 'scores':  RF.feature_importances_})\n",
    "imp_features = imp_features.sort_values(by = 'scores', ascending = False)\n",
    "\n",
    "plt.figure(figsize = (15,10))\n",
    "sns.barplot(x = 'scores', y = 'features', data = imp_features)\n",
    "plt.show()"
   ]
  },
  {
   "cell_type": "code",
   "execution_count": 19,
   "metadata": {},
   "outputs": [
    {
     "name": "stdout",
     "output_type": "stream",
     "text": [
      "              precision    recall  f1-score   support\n",
      "\n",
      "           1       0.92      0.95      0.94      1831\n",
      "           2       0.92      0.87      0.90      1777\n",
      "           3       0.91      0.91      0.91      1773\n",
      "           4       0.93      0.95      0.94      1815\n",
      "\n",
      "    accuracy                           0.92      7196\n",
      "   macro avg       0.92      0.92      0.92      7196\n",
      "weighted avg       0.92      0.92      0.92      7196\n",
      "\n"
     ]
    }
   ],
   "source": [
    "## Using top 10 features from feature importance\n",
    "top10 = imp_features['features'].tolist()[:10]\n",
    "\n",
    "train = X_train[top10]\n",
    "\n",
    "test = X_test[top10]\n",
    "\n",
    "## Model 5:\n",
    "RF  = RandomForestClassifier(random_state = 21)\n",
    "\n",
    "RF.fit(train, y_train)\n",
    "\n",
    "yt_pred = RF.predict(train)\n",
    "y_pred = RF.predict(test)\n",
    "\n",
    "print(classification_report(y_test,y_pred))"
   ]
  },
  {
   "cell_type": "code",
   "execution_count": 20,
   "metadata": {},
   "outputs": [
    {
     "name": "stdout",
     "output_type": "stream",
     "text": [
      "              precision    recall  f1-score   support\n",
      "\n",
      "           1       1.00      1.00      1.00      4165\n",
      "           2       1.00      1.00      1.00      4219\n",
      "           3       1.00      1.00      1.00      4223\n",
      "           4       1.00      1.00      1.00      4181\n",
      "\n",
      "    accuracy                           1.00     16788\n",
      "   macro avg       1.00      1.00      1.00     16788\n",
      "weighted avg       1.00      1.00      1.00     16788\n",
      "\n"
     ]
    }
   ],
   "source": [
    "print(classification_report(y_train,yt_pred))"
   ]
  },
  {
   "cell_type": "code",
   "execution_count": null,
   "metadata": {},
   "outputs": [],
   "source": []
  },
  {
   "cell_type": "code",
   "execution_count": 21,
   "metadata": {},
   "outputs": [
    {
     "name": "stdout",
     "output_type": "stream",
     "text": [
      "              precision    recall  f1-score   support\n",
      "\n",
      "           1       0.94      0.97      0.95      1831\n",
      "           2       0.93      0.91      0.92      1777\n",
      "           3       0.95      0.92      0.94      1773\n",
      "           4       0.94      0.96      0.95      1815\n",
      "\n",
      "    accuracy                           0.94      7196\n",
      "   macro avg       0.94      0.94      0.94      7196\n",
      "weighted avg       0.94      0.94      0.94      7196\n",
      "\n"
     ]
    }
   ],
   "source": [
    "## Using top 20 features from feature importance\n",
    "top20 = imp_features['features'].tolist()[:20]\n",
    "\n",
    "train = X_train[top20]\n",
    "\n",
    "test = X_test[top20]\n",
    "\n",
    "## Model 6:\n",
    "RF  = RandomForestClassifier(random_state = 21)\n",
    "\n",
    "RF.fit(train, y_train)\n",
    "\n",
    "yt_pred = RF.predict(train)\n",
    "y_pred = RF.predict(test)\n",
    "\n",
    "print(classification_report(y_test,y_pred))"
   ]
  },
  {
   "cell_type": "code",
   "execution_count": 22,
   "metadata": {},
   "outputs": [
    {
     "name": "stdout",
     "output_type": "stream",
     "text": [
      "              precision    recall  f1-score   support\n",
      "\n",
      "           1       1.00      1.00      1.00      4165\n",
      "           2       1.00      1.00      1.00      4219\n",
      "           3       1.00      1.00      1.00      4223\n",
      "           4       1.00      1.00      1.00      4181\n",
      "\n",
      "    accuracy                           1.00     16788\n",
      "   macro avg       1.00      1.00      1.00     16788\n",
      "weighted avg       1.00      1.00      1.00     16788\n",
      "\n"
     ]
    }
   ],
   "source": [
    "print(classification_report(y_train,yt_pred))"
   ]
  },
  {
   "cell_type": "code",
   "execution_count": null,
   "metadata": {},
   "outputs": [],
   "source": []
  },
  {
   "cell_type": "code",
   "execution_count": 23,
   "metadata": {},
   "outputs": [
    {
     "name": "stdout",
     "output_type": "stream",
     "text": [
      "              precision    recall  f1-score   support\n",
      "\n",
      "           1       0.95      0.98      0.97      1831\n",
      "           2       0.95      0.92      0.93      1777\n",
      "           3       0.95      0.94      0.95      1773\n",
      "           4       0.95      0.96      0.96      1815\n",
      "\n",
      "    accuracy                           0.95      7196\n",
      "   macro avg       0.95      0.95      0.95      7196\n",
      "weighted avg       0.95      0.95      0.95      7196\n",
      "\n"
     ]
    }
   ],
   "source": [
    "## Using top 30 features from feature importance\n",
    "top30 = imp_features['features'].tolist()[:30]\n",
    "\n",
    "train = X_train[top30]\n",
    "\n",
    "test = X_test[top30]\n",
    "\n",
    "## Model 7:\n",
    "RF  = RandomForestClassifier(random_state = 21)\n",
    "\n",
    "RF.fit(train, y_train)\n",
    "\n",
    "yt_pred = RF.predict(train)\n",
    "y_pred = RF.predict(test)\n",
    "\n",
    "print(classification_report(y_test,y_pred))"
   ]
  },
  {
   "cell_type": "code",
   "execution_count": 24,
   "metadata": {},
   "outputs": [
    {
     "name": "stdout",
     "output_type": "stream",
     "text": [
      "              precision    recall  f1-score   support\n",
      "\n",
      "           1       1.00      1.00      1.00      4165\n",
      "           2       1.00      1.00      1.00      4219\n",
      "           3       1.00      1.00      1.00      4223\n",
      "           4       1.00      1.00      1.00      4181\n",
      "\n",
      "    accuracy                           1.00     16788\n",
      "   macro avg       1.00      1.00      1.00     16788\n",
      "weighted avg       1.00      1.00      1.00     16788\n",
      "\n"
     ]
    }
   ],
   "source": [
    "print(classification_report(y_train,yt_pred))"
   ]
  },
  {
   "cell_type": "code",
   "execution_count": 25,
   "metadata": {},
   "outputs": [
    {
     "name": "stdout",
     "output_type": "stream",
     "text": [
      "['adults_years_of_education', 'dependency_rate', 'n_persons_per_room', 'monthly_rent', 'male_years_of_education', 'age', 'schooling_years', 'rooms', 'female_years_of_education', 'n_above_12', 'n_females', 'n_males', 'n_under_12', 'n_persons', 'n_children', 'schooling_years_behind', 'n_adults', 'is_wall_quality_good', 'has_ceiling', 'is_roof_quality_good', 'n_bed', 'is_floor_quality_good', 'has_tablet', 'zone_urban', 'ownership_own', 'region_central', 'has_tv', 'ownership_rented', 'gender_male', 'region_huetar_alt']\n"
     ]
    }
   ],
   "source": [
    "print(top30)"
   ]
  },
  {
   "cell_type": "markdown",
   "metadata": {},
   "source": [
    "Using top 30 features for further models as the f1score using all features and 30 features is same."
   ]
  },
  {
   "cell_type": "code",
   "execution_count": null,
   "metadata": {},
   "outputs": [],
   "source": []
  },
  {
   "cell_type": "code",
   "execution_count": 28,
   "metadata": {},
   "outputs": [
    {
     "name": "stdout",
     "output_type": "stream",
     "text": [
      "Optimal number of features : 27\n",
      "['adults_years_of_education', 'has_tv', 'region_central', 'ownership_own', 'zone_urban', 'has_tablet', 'is_floor_quality_good', 'n_bed', 'is_roof_quality_good', 'has_ceiling', 'is_wall_quality_good', 'n_adults', 'schooling_years_behind', 'n_children', 'n_under_12', 'n_males', 'n_females', 'n_above_12', 'female_years_of_education', 'rooms', 'schooling_years', 'age', 'male_years_of_education', 'monthly_rent', 'n_persons_per_room', 'dependency_rate', 'n_persons']\n"
     ]
    }
   ],
   "source": [
    "## RFE to find optimal number of features\n",
    "from sklearn.feature_selection import RFECV\n",
    "\n",
    "def apply_rfecv(x,y):\n",
    "\n",
    "    RF = RandomForestClassifier(random_state=0)\n",
    "    rfecv = RFECV(estimator = RF, step = 1, cv = 5, scoring = 'f1_weighted')\n",
    "    rfecv.fit(x, y)\n",
    "    \n",
    "    print(\"Optimal number of features : %d\" % rfecv.n_features_)\n",
    "    \n",
    "    rfe_features = pd.DataFrame({'features': x.columns, 'rank':rfecv.ranking_}).sort_values(by = 'rank')\n",
    "    sel_features = rfe_features[rfe_features['rank']==1]['features'].to_list()\n",
    "    \n",
    "    return sel_features\n",
    "\n",
    "sel_features = apply_rfecv(X_train[top30],y_train)\n",
    "print(sel_features)"
   ]
  },
  {
   "cell_type": "code",
   "execution_count": 29,
   "metadata": {},
   "outputs": [
    {
     "name": "stdout",
     "output_type": "stream",
     "text": [
      "              precision    recall  f1-score   support\n",
      "\n",
      "           1       0.96      0.97      0.96      1831\n",
      "           2       0.94      0.93      0.93      1777\n",
      "           3       0.96      0.94      0.95      1773\n",
      "           4       0.95      0.97      0.96      1815\n",
      "\n",
      "    accuracy                           0.95      7196\n",
      "   macro avg       0.95      0.95      0.95      7196\n",
      "weighted avg       0.95      0.95      0.95      7196\n",
      "\n"
     ]
    }
   ],
   "source": [
    "## Using features from RFE\n",
    "\n",
    "train = X_train[sel_features]\n",
    "\n",
    "test = X_test[sel_features]\n",
    "\n",
    "## Model 8:\n",
    "RF  = RandomForestClassifier(random_state = 21)\n",
    "\n",
    "RF.fit(train, y_train)\n",
    "\n",
    "yt_pred = RF.predict(train)\n",
    "y_pred = RF.predict(test)\n",
    "\n",
    "print(classification_report(y_test,y_pred))"
   ]
  },
  {
   "cell_type": "code",
   "execution_count": 30,
   "metadata": {},
   "outputs": [
    {
     "name": "stdout",
     "output_type": "stream",
     "text": [
      "              precision    recall  f1-score   support\n",
      "\n",
      "           1       1.00      1.00      1.00      4165\n",
      "           2       1.00      1.00      1.00      4219\n",
      "           3       1.00      1.00      1.00      4223\n",
      "           4       1.00      1.00      1.00      4181\n",
      "\n",
      "    accuracy                           1.00     16788\n",
      "   macro avg       1.00      1.00      1.00     16788\n",
      "weighted avg       1.00      1.00      1.00     16788\n",
      "\n"
     ]
    }
   ],
   "source": [
    "print(classification_report(y_train,yt_pred))"
   ]
  },
  {
   "cell_type": "code",
   "execution_count": null,
   "metadata": {},
   "outputs": [],
   "source": []
  },
  {
   "cell_type": "code",
   "execution_count": null,
   "metadata": {},
   "outputs": [],
   "source": []
  },
  {
   "cell_type": "markdown",
   "metadata": {},
   "source": [
    "## Cross validation"
   ]
  },
  {
   "cell_type": "code",
   "execution_count": 33,
   "metadata": {},
   "outputs": [],
   "source": [
    "from sklearn.model_selection import cross_validate, KFold, StratifiedKFold"
   ]
  },
  {
   "cell_type": "code",
   "execution_count": 33,
   "metadata": {},
   "outputs": [
    {
     "name": "stdout",
     "output_type": "stream",
     "text": [
      "DT\n",
      "[1. 1. 1. 1. 1.]\n",
      "[0.90317649 0.88887258 0.89333336 0.88352258 0.88132998]\n",
      "BG_DT\n",
      "[1.         0.99994788 1.         1.         1.        ]\n",
      "[0.95845228 0.96372499 0.95888273 0.96182074 0.95798077]\n",
      "RF\n",
      "[0.99791515 0.99791523 0.99843626 0.99859283 0.99859287]\n",
      "[0.9399686  0.93379994 0.93321832 0.93995978 0.93372024]\n"
     ]
    }
   ],
   "source": [
    "## using top 30 features\n",
    "\n",
    "X1 = X_smote[top30]\n",
    "Y1 = y_smote\n",
    "\n",
    "names = ['DT', 'BG_DT', 'RF']\n",
    "models = [DT, RF, BG_DT]\n",
    "\n",
    "for model,name in zip(models,names):\n",
    "    kfold = StratifiedKFold(n_splits = 5, shuffle = True, random_state = 21)\n",
    "    cv_results = cross_validate(model, X1, Y1, cv = kfold, scoring = 'f1_weighted', return_train_score = True)\n",
    "    print(name)\n",
    "    print(cv_results['train_score'])\n",
    "    print(cv_results['test_score'])"
   ]
  },
  {
   "cell_type": "markdown",
   "metadata": {},
   "source": [
    "#### Still there is some amount of overfitting, so need to tune the parameters of Random Forest Model"
   ]
  },
  {
   "cell_type": "code",
   "execution_count": 34,
   "metadata": {},
   "outputs": [
    {
     "name": "stdout",
     "output_type": "stream",
     "text": [
      "DT\n",
      "[1. 1. 1. 1. 1.]\n",
      "[0.88650739 0.88155403 0.88641496 0.89128126 0.90190254]\n",
      "BG_DT\n",
      "[1. 1. 1. 1. 1.]\n",
      "[0.96066761 0.95807001 0.96011546 0.95991685 0.95846027]\n",
      "RF\n",
      "[0.9983321  0.99760262 0.99796714 0.99822805 0.99833241]\n",
      "[0.92262014 0.92626604 0.92632019 0.92893181 0.93118683]\n"
     ]
    }
   ],
   "source": [
    "## using features from RFE\n",
    "\n",
    "X1 = X_smote[sel_features]\n",
    "Y1 = y_smote\n",
    "\n",
    "names = ['DT', 'BG_DT', 'RF']\n",
    "models = [DT, RF, BG_DT]\n",
    "\n",
    "for model,name in zip(models,names):\n",
    "    kfold = KFold(n_splits = 5, shuffle = True, random_state = 21)\n",
    "    cv_results = cross_validate(model, X1, Y1, cv = kfold, scoring = 'f1_weighted', return_train_score = True)\n",
    "    print(name)\n",
    "    print(cv_results['train_score'])\n",
    "    print(cv_results['test_score'])"
   ]
  },
  {
   "cell_type": "markdown",
   "metadata": {},
   "source": [
    "## Hyperparameter Tuning using 30 features"
   ]
  },
  {
   "cell_type": "code",
   "execution_count": null,
   "metadata": {},
   "outputs": [],
   "source": [
    "X1 = X_smote[top30]\n",
    "Y1 = y_smote\n",
    "\n",
    "X_train, X_test, y_train, y_test = train_test_split(X1, Y1, test_size = 0.3, random_state = 21)\n"
   ]
  },
  {
   "cell_type": "code",
   "execution_count": null,
   "metadata": {},
   "outputs": [],
   "source": [
    "## parameters for RF\n",
    "max_depth = np.arange(2,10)\n",
    "min_samples_split = np.arange(10,30,3)\n",
    "min_samples_leaf = np.arange(10,40,3)\n",
    "n_estimators = np.arange(90,110,7)\n",
    "\n",
    "params = {\n",
    "          'max_depth': max_depth,\n",
    "          'min_samples_split': min_samples_split,\n",
    "          'min_samples_leaf': min_samples_leaf,\n",
    "          'n_estimators': n_estimators\n",
    "         }\n",
    "\n",
    "RF  = RandomForestClassifier(random_state = 21)\n",
    "\n",
    "rscv = RandomizedSearchCV(RF, params, scoring = 'f1_weighted', cv = 5, return_train_score = True)\n",
    "results = rscv.fit(X_train,y_train)\n",
    "results.best_params_"
   ]
  },
  {
   "cell_type": "code",
   "execution_count": null,
   "metadata": {},
   "outputs": [],
   "source": [
    "\n",
    "est = results.best_estimator_\n",
    "\n",
    "est.fit(X_train, y_train)\n",
    "\n",
    "yt_pred = est.predict(X_train)\n",
    "y_pred = est.predict(X_test)\n",
    "\n",
    "print(classification_report(y_test,y_pred))"
   ]
  },
  {
   "cell_type": "code",
   "execution_count": null,
   "metadata": {},
   "outputs": [],
   "source": [
    "print(classification_report(y_train,yt_pred))"
   ]
  },
  {
   "cell_type": "markdown",
   "metadata": {},
   "source": [
    "#### From the above hyper parameter tuning, the parameters are as follows:\n",
    "\n",
    "1. {'n_estimators': 67, 'min_samples_split': 25, 'min_samples_leaf': 13, 'max_depth': 9} - 78 | 78\n",
    "\n",
    "2. {'n_estimators': 67, 'min_samples_split': 25, 'min_samples_leaf': 16, 'max_depth': 8} - 74 | 74\n",
    "\n",
    "3. {'n_estimators': 88, 'min_samples_split': 10, 'min_samples_leaf': 10, 'max_depth': 9} - 78 | 80\n",
    "\n",
    "4. {'n_estimators': 97, 'min_samples_split': 16, 'min_samples_leaf': 13, 'max_depth': 8} - 74 | 75\n",
    "\n",
    "\n",
    "The reuslts from these parameters are not showing any kind of overfitting. Here, consider the parameters in point 3 for RF"
   ]
  },
  {
   "cell_type": "code",
   "execution_count": null,
   "metadata": {},
   "outputs": [],
   "source": [
    "## parameters for DT\n",
    "max_depth = np.arange(2,10)\n",
    "min_samples_split = np.arange(5,30,5)\n",
    "min_samples_leaf = np.arange(5,40,5)\n",
    "\n",
    "params = {\n",
    "          'max_depth': max_depth,\n",
    "          'min_samples_split': min_samples_split,\n",
    "          'min_samples_leaf': min_samples_leaf\n",
    "         }\n",
    "\n",
    "DT  = DecisionTreeClassifier(random_state = 21)\n",
    "\n",
    "rscv = RandomizedSearchCV(DT, params, scoring = 'f1_weighted', cv = 5, return_train_score = True)\n",
    "results = rscv.fit(X_train,y_train)\n",
    "results.best_params_"
   ]
  },
  {
   "cell_type": "code",
   "execution_count": null,
   "metadata": {},
   "outputs": [],
   "source": [
    "\n",
    "est = results.best_estimator_\n",
    "\n",
    "est.fit(X_train, y_train)\n",
    "\n",
    "yt_pred = est.predict(X_train)\n",
    "y_pred = est.predict(X_test)\n",
    "\n",
    "print(classification_report(y_test,y_pred))\n",
    "\n",
    "print('\\nTrain: ')\n",
    "print(classification_report(y_train,yt_pred))"
   ]
  },
  {
   "cell_type": "code",
   "execution_count": null,
   "metadata": {},
   "outputs": [],
   "source": []
  },
  {
   "cell_type": "markdown",
   "metadata": {},
   "source": [
    "#### From the above hyper parameter tuning, the parameters are as follows:\n",
    "\n",
    "1. {'min_samples_split': 28, 'min_samples_leaf': 16, 'max_depth': 9} - 69 | 70\n",
    "\n",
    "2. {'min_samples_split': 24, 'min_samples_leaf': 37, 'max_depth': 9} - 67 | 68\n",
    "\n",
    "3. {'min_samples_split': 18, 'min_samples_leaf': 11, 'max_depth': 8} - 67 | 66\n",
    "\n",
    "4. {'min_samples_split': 25, 'min_samples_leaf': 30, 'max_depth': 9} - 67 | 69\n",
    "\n",
    "\n",
    "The reuslts from these parameters are not showing any kind of overfitting. Here we can consider the parameters in point 1 for DT"
   ]
  },
  {
   "cell_type": "code",
   "execution_count": null,
   "metadata": {},
   "outputs": [],
   "source": []
  },
  {
   "cell_type": "code",
   "execution_count": 40,
   "metadata": {},
   "outputs": [
    {
     "name": "stderr",
     "output_type": "stream",
     "text": [
      "C:\\Users\\Ankita\\Anaconda3\\lib\\site-packages\\sklearn\\model_selection\\_search.py:281: UserWarning: The total space of parameters 7 is smaller than n_iter=10. Running 7 iterations. For exhaustive searches, use GridSearchCV.\n",
      "  % (grid_size, self.n_iter, grid_size), UserWarning)\n"
     ]
    },
    {
     "data": {
      "text/plain": [
       "{'n_estimators': 47}"
      ]
     },
     "execution_count": 40,
     "metadata": {},
     "output_type": "execute_result"
    }
   ],
   "source": [
    "## parameter for BG_DT\n",
    "n_estimators = np.arange(28, 35)\n",
    "\n",
    "params = {\n",
    "          'n_estimators': n_estimators\n",
    "         }\n",
    "\n",
    "BG_DT = BaggingClassifier(base_estimator = DT, random_state = 21)\n",
    "\n",
    "rscv = RandomizedSearchCV(BG_DT, params, scoring = 'f1_weighted', cv = 5, return_train_score = True)\n",
    "results = rscv.fit(X_train,y_train)\n",
    "results.best_params_"
   ]
  },
  {
   "cell_type": "code",
   "execution_count": 41,
   "metadata": {},
   "outputs": [
    {
     "name": "stdout",
     "output_type": "stream",
     "text": [
      "              precision    recall  f1-score   support\n",
      "\n",
      "           1       0.95      0.96      0.95      1831\n",
      "           2       0.94      0.92      0.93      1777\n",
      "           3       0.94      0.94      0.94      1773\n",
      "           4       0.95      0.96      0.96      1815\n",
      "\n",
      "    accuracy                           0.94      7196\n",
      "   macro avg       0.94      0.94      0.94      7196\n",
      "weighted avg       0.94      0.94      0.94      7196\n",
      "\n",
      "\n",
      "Train: \n",
      "              precision    recall  f1-score   support\n",
      "\n",
      "           1       1.00      1.00      1.00      4165\n",
      "           2       1.00      1.00      1.00      4219\n",
      "           3       1.00      1.00      1.00      4223\n",
      "           4       1.00      1.00      1.00      4181\n",
      "\n",
      "    accuracy                           1.00     16788\n",
      "   macro avg       1.00      1.00      1.00     16788\n",
      "weighted avg       1.00      1.00      1.00     16788\n",
      "\n"
     ]
    }
   ],
   "source": [
    "est = results.best_estimator_\n",
    "\n",
    "est.fit(X_train, y_train)\n",
    "\n",
    "yt_pred = est.predict(X_train)\n",
    "y_pred = est.predict(X_test)\n",
    "\n",
    "print(classification_report(y_test,y_pred))\n",
    "\n",
    "print('\\nTrain: ')\n",
    "print(classification_report(y_train,yt_pred))"
   ]
  },
  {
   "cell_type": "markdown",
   "metadata": {},
   "source": [
    "#### From the above hyper parameter tuning, the parameters are as follows:\n",
    "\n",
    "1. {'n_estimators': 28} - 95 | 1\n",
    "2. {'n_estimators': 47} - 95 | 1\n",
    "\n",
    "\n",
    "The reuslts from these parameters are showing overfitting."
   ]
  },
  {
   "cell_type": "code",
   "execution_count": null,
   "metadata": {},
   "outputs": [],
   "source": []
  },
  {
   "cell_type": "code",
   "execution_count": 43,
   "metadata": {},
   "outputs": [],
   "source": [
    "## Final Models after tuning\n",
    "\n",
    "finalRF = RandomForestClassifier(n_estimators = 97, min_samples_split = 16, min_samples_leaf = 13, \n",
    "                                 max_depth = 8, random_state = 21)\n",
    "\n",
    "\n",
    "finalDT = DecisionTreeClassifier(min_samples_split = 28, min_samples_leaf = 16, max_depth = 9, random_state = 21)\n",
    "\n",
    "\n",
    "finalBG_DT = BaggingClassifier(base_estimator = DT, n_estimators = 28, random_state = 21)"
   ]
  },
  {
   "cell_type": "code",
   "execution_count": 44,
   "metadata": {},
   "outputs": [
    {
     "name": "stdout",
     "output_type": "stream",
     "text": [
      "\n",
      "\n",
      "Tuned BGDT\n",
      "[0.99979151 0.99979151 0.99984364 0.99994788 0.99973941] 0.9998227928772394\n",
      "[0.95412762 0.94765151 0.94676448 0.94956698 0.94476966] 0.9485760491346868\n",
      "\n",
      "\n",
      "Tuned DT\n",
      "[0.65277268 0.65624873 0.6554594  0.64989171 0.64951071] 0.652776647049163\n",
      "[0.63150923 0.62439393 0.63954545 0.601159   0.61396014] 0.6221135515215729\n",
      "\n",
      "\n",
      "Tuned RF\n",
      "[0.71762586 0.71657068 0.71413054 0.71119855 0.71959936] 0.715824998105345\n",
      "[0.70406869 0.68375401 0.68811851 0.68518918 0.68800172] 0.6898264235389168\n"
     ]
    }
   ],
   "source": [
    "X1 = X_smote[top30]\n",
    "Y1 = y_smote\n",
    "\n",
    "names = ['Tuned BGDT', 'Tuned DT', 'Tuned RF']\n",
    "models = [finalBG_DT, finalDT, finalRF]\n",
    "\n",
    "for model,name in zip(models, names):\n",
    "    kfold = StratifiedKFold(n_splits = 5, shuffle = True, random_state = 21)\n",
    "    cv_results = cross_validate(model, X1, Y1, cv = kfold, scoring = 'f1_weighted', return_train_score = True)\n",
    "    print('\\n')\n",
    "    print(name)\n",
    "    print(cv_results['train_score'], cv_results['train_score'].mean())\n",
    "    print(cv_results['test_score'], cv_results['test_score'].mean())"
   ]
  },
  {
   "cell_type": "markdown",
   "metadata": {},
   "source": [
    "## Hyperparameter Tuning using RFE features\n"
   ]
  },
  {
   "cell_type": "code",
   "execution_count": 36,
   "metadata": {},
   "outputs": [],
   "source": [
    "\n",
    "X1 = X_smote[sel_features]\n",
    "Y1 = y_smote\n",
    "\n",
    "X_train, X_test, y_train, y_test = train_test_split(X1, Y1, test_size = 0.3, random_state = 21)\n"
   ]
  },
  {
   "cell_type": "code",
   "execution_count": 37,
   "metadata": {},
   "outputs": [
    {
     "name": "stdout",
     "output_type": "stream",
     "text": [
      "{'n_estimators': 104, 'min_samples_split': 22, 'min_samples_leaf': 13, 'max_depth': 9}\n",
      "              precision    recall  f1-score   support\n",
      "\n",
      "           1       0.73      0.81      0.77      1831\n",
      "           2       0.74      0.60      0.66      1777\n",
      "           3       0.67      0.71      0.69      1773\n",
      "           4       0.78      0.80      0.79      1815\n",
      "\n",
      "    accuracy                           0.73      7196\n",
      "   macro avg       0.73      0.73      0.73      7196\n",
      "weighted avg       0.73      0.73      0.73      7196\n",
      "\n",
      "train\n",
      "              precision    recall  f1-score   support\n",
      "\n",
      "           1       0.76      0.82      0.79      4165\n",
      "           2       0.79      0.65      0.71      4219\n",
      "           3       0.71      0.76      0.73      4223\n",
      "           4       0.80      0.83      0.82      4181\n",
      "\n",
      "    accuracy                           0.76     16788\n",
      "   macro avg       0.77      0.76      0.76     16788\n",
      "weighted avg       0.77      0.76      0.76     16788\n",
      "\n"
     ]
    }
   ],
   "source": [
    "## parameters for RF\n",
    "max_depth = np.arange(2,10)\n",
    "min_samples_split = np.arange(10,30,3)\n",
    "min_samples_leaf = np.arange(10,40,3)\n",
    "n_estimators = np.arange(90,110,7)\n",
    "\n",
    "params = {\n",
    "          'max_depth': max_depth,\n",
    "          'min_samples_split': min_samples_split,\n",
    "          'min_samples_leaf': min_samples_leaf,\n",
    "          'n_estimators': n_estimators\n",
    "         }\n",
    "\n",
    "RF  = RandomForestClassifier(random_state = 21)\n",
    "\n",
    "rscv = RandomizedSearchCV(RF, params, scoring = 'f1_weighted', cv = 5, return_train_score = True)\n",
    "results = rscv.fit(X_train,y_train)\n",
    "print(results.best_params_)\n",
    "\n",
    "\n",
    "est = results.best_estimator_\n",
    "\n",
    "est.fit(X_train, y_train)\n",
    "\n",
    "yt_pred = est.predict(X_train)\n",
    "y_pred = est.predict(X_test)\n",
    "\n",
    "print(classification_report(y_test,y_pred))\n",
    "\n",
    "print('train')\n",
    "print(classification_report(y_train,yt_pred))"
   ]
  },
  {
   "cell_type": "code",
   "execution_count": 38,
   "metadata": {},
   "outputs": [
    {
     "name": "stdout",
     "output_type": "stream",
     "text": [
      "\n",
      "\n",
      "Tuned RFE + RF\n",
      "[0.76036285 0.76248428 0.75655342 0.76177738 0.75972492] 0.7601805699106057\n",
      "[0.72591178 0.72752914 0.71955311 0.73113837 0.72149455] 0.7251253892571581\n"
     ]
    }
   ],
   "source": [
    "## Final Models after tuning\n",
    "\n",
    "rfe_finalRF = RandomForestClassifier(n_estimators = 104, min_samples_split = 22, min_samples_leaf = 13, \n",
    "                                 max_depth = 9, random_state = 21)\n",
    "\n",
    "X1 = X_smote[sel_features]\n",
    "Y1 = y_smote\n",
    "\n",
    "names = ['Tuned RFE + RF']\n",
    "models = [rfe_finalRF]\n",
    "\n",
    "for model,name in zip(models, names):\n",
    "    kfold = KFold(n_splits = 5, shuffle = True, random_state = 21)\n",
    "    cv_results = cross_validate(model, X1, Y1, cv = kfold, scoring = 'f1_weighted', return_train_score = True)\n",
    "    print('\\n')\n",
    "    print(name)\n",
    "    print(cv_results['train_score'], cv_results['train_score'].mean())\n",
    "    print(cv_results['test_score'], cv_results['test_score'].mean())"
   ]
  },
  {
   "cell_type": "markdown",
   "metadata": {},
   "source": [
    "From all the models built, Random Forest with RFE resulting in 27 features gives the best results, that is, f1 score of 72% on the test data with less variance. Thus, it is the best model for the data"
   ]
  },
  {
   "cell_type": "code",
   "execution_count": null,
   "metadata": {},
   "outputs": [],
   "source": []
  }
 ],
 "metadata": {
  "kernelspec": {
   "display_name": "Python 3",
   "language": "python",
   "name": "python3"
  },
  "language_info": {
   "codemirror_mode": {
    "name": "ipython",
    "version": 3
   },
   "file_extension": ".py",
   "mimetype": "text/x-python",
   "name": "python",
   "nbconvert_exporter": "python",
   "pygments_lexer": "ipython3",
   "version": "3.7.4"
  }
 },
 "nbformat": 4,
 "nbformat_minor": 2
}
